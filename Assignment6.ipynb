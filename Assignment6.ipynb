{
  "nbformat": 4,
  "nbformat_minor": 0,
  "metadata": {
    "colab": {
      "provenance": [],
      "authorship_tag": "ABX9TyOq3W7f74kVQHWBHYcWJlT3",
      "include_colab_link": true
    },
    "kernelspec": {
      "name": "python3",
      "display_name": "Python 3"
    },
    "language_info": {
      "name": "python"
    }
  },
  "cells": [
    {
      "cell_type": "markdown",
      "metadata": {
        "id": "view-in-github",
        "colab_type": "text"
      },
      "source": [
        "<a href=\"https://colab.research.google.com/github/raulito100/neue_Assignment/blob/main/Assignment6.ipynb\" target=\"_parent\"><img src=\"https://colab.research.google.com/assets/colab-badge.svg\" alt=\"Open In Colab\"/></a>"
      ]
    },
    {
      "cell_type": "code",
      "execution_count": 5,
      "metadata": {
        "id": "ptB_b6ilkOuc"
      },
      "outputs": [],
      "source": [
        "import pandas as pd\n",
        "\n",
        "# Load dataset\n",
        "df = pd.read_csv('/content/salaries.csv')\n"
      ]
    },
    {
      "cell_type": "markdown",
      "source": [
        "###1. Data Exploration and Manipulation###"
      ],
      "metadata": {
        "id": "10jjTAxAzzoN"
      }
    },
    {
      "cell_type": "code",
      "source": [
        "# 1. Dataset Overview\n",
        "print(df.head())\n",
        "print(df.shape)\n",
        "print (df.columns)"
      ],
      "metadata": {
        "colab": {
          "base_uri": "https://localhost:8080/"
        },
        "id": "bY6q9p77ktxm",
        "outputId": "2b7a2a05-fb26-4425-bae3-98ed4ca4a00a"
      },
      "execution_count": 6,
      "outputs": [
        {
          "output_type": "stream",
          "name": "stdout",
          "text": [
            "       rank discipline  yrs.since.phd  yrs.service   sex  salary\n",
            "0      Prof          B             19           18  Male  139750\n",
            "1      Prof          B             20           16  Male  173200\n",
            "2  AsstProf          B              4            3  Male   79750\n",
            "3      Prof          B             45           39  Male  115000\n",
            "4      Prof          B             40           41  Male  141500\n",
            "(397, 6)\n",
            "Index(['rank', 'discipline', 'yrs.since.phd', 'yrs.service', 'sex', 'salary'], dtype='object')\n"
          ]
        }
      ]
    },
    {
      "cell_type": "code",
      "source": [
        "# Check data types\n",
        "print(df.dtypes)\n",
        "\n",
        "# Select categorical columns (possible classification targets)\n",
        "categorical_columns = df.select_dtypes(include=['object', 'category']).columns\n",
        "print(\"Categorical columns:\", categorical_columns)\n",
        "\n",
        "# Select numerical columns (possible regression targets)\n",
        "numerical_columns = df.select_dtypes(include=['number']).columns\n",
        "print(\"Numerical columns:\", numerical_columns)\n"
      ],
      "metadata": {
        "colab": {
          "base_uri": "https://localhost:8080/"
        },
        "id": "eNucUOO0mXoz",
        "outputId": "610d4e64-3ab5-4377-f0d0-dd6c9ac8a7e9"
      },
      "execution_count": 7,
      "outputs": [
        {
          "output_type": "stream",
          "name": "stdout",
          "text": [
            "rank             object\n",
            "discipline       object\n",
            "yrs.since.phd     int64\n",
            "yrs.service       int64\n",
            "sex              object\n",
            "salary            int64\n",
            "dtype: object\n",
            "Categorical columns: Index(['rank', 'discipline', 'sex'], dtype='object')\n",
            "Numerical columns: Index(['yrs.since.phd', 'yrs.service', 'salary'], dtype='object')\n"
          ]
        }
      ]
    },
    {
      "cell_type": "markdown",
      "source": [
        "Since this Assignment is about Regression Models, our target variables will be \"yrs.since.phd\", \"yrs.service\", \"salary\"."
      ],
      "metadata": {
        "id": "QJb7Qrm7pA9U"
      }
    },
    {
      "cell_type": "code",
      "source": [
        "# 2. Check for Missing Values\n",
        "\n",
        "null_counts = df.isnull().sum()\n",
        "print(\"Missing values per column:\\n\", null_counts)\n"
      ],
      "metadata": {
        "colab": {
          "base_uri": "https://localhost:8080/"
        },
        "id": "93K5GFdmpO7V",
        "outputId": "097a3cf5-1468-46d6-fa4c-920586700cac"
      },
      "execution_count": 8,
      "outputs": [
        {
          "output_type": "stream",
          "name": "stdout",
          "text": [
            "Missing values per column:\n",
            " rank             0\n",
            "discipline       0\n",
            "yrs.since.phd    0\n",
            "yrs.service      0\n",
            "sex              0\n",
            "salary           0\n",
            "dtype: int64\n"
          ]
        }
      ]
    },
    {
      "cell_type": "code",
      "source": [
        "# 3. Convert Categorical Variables\n",
        "\n",
        "# As seen in Task 1 the categorical columns are \"rank\", \"discipline\" and \"sex\".\n",
        "\n",
        "# Convert categorical variables into dummy variables\n",
        "# Example: Automatic encoding for all categorical columns\n",
        "df_dummies = pd.get_dummies(df, columns=categorical_columns)\n"
      ],
      "metadata": {
        "id": "8h2-kKD5poHT"
      },
      "execution_count": 9,
      "outputs": []
    },
    {
      "cell_type": "code",
      "source": [
        "print(df_dummies)"
      ],
      "metadata": {
        "colab": {
          "base_uri": "https://localhost:8080/"
        },
        "id": "Gdr_Mvp8qqEJ",
        "outputId": "e9fd68fc-2590-400a-e0b8-026be135a149"
      },
      "execution_count": 12,
      "outputs": [
        {
          "output_type": "stream",
          "name": "stdout",
          "text": [
            "     yrs.since.phd  yrs.service  salary  rank_AssocProf  rank_AsstProf  \\\n",
            "0               19           18  139750           False          False   \n",
            "1               20           16  173200           False          False   \n",
            "2                4            3   79750           False           True   \n",
            "3               45           39  115000           False          False   \n",
            "4               40           41  141500           False          False   \n",
            "..             ...          ...     ...             ...            ...   \n",
            "392             33           30  103106           False          False   \n",
            "393             31           19  150564           False          False   \n",
            "394             42           25  101738           False          False   \n",
            "395             25           15   95329           False          False   \n",
            "396              8            4   81035           False           True   \n",
            "\n",
            "     rank_Prof  discipline_A  discipline_B  sex_Female  sex_Male  \n",
            "0         True         False          True       False      True  \n",
            "1         True         False          True       False      True  \n",
            "2        False         False          True       False      True  \n",
            "3         True         False          True       False      True  \n",
            "4         True         False          True       False      True  \n",
            "..         ...           ...           ...         ...       ...  \n",
            "392       True          True         False       False      True  \n",
            "393       True          True         False       False      True  \n",
            "394       True          True         False       False      True  \n",
            "395       True          True         False       False      True  \n",
            "396      False          True         False       False      True  \n",
            "\n",
            "[397 rows x 10 columns]\n"
          ]
        }
      ]
    },
    {
      "cell_type": "code",
      "source": [
        "# 4. Correalation Analysis\n",
        "correlation_matrix = df_dummies.corr()\n",
        "print(correlation_matrix)\n",
        "import seaborn as sns\n",
        "import matplotlib.pyplot as plt\n",
        "\n",
        "# Create a heatmap\n",
        "plt.figure(figsize=(8, 6))\n",
        "sns.heatmap(correlation_matrix, annot=True, cmap='coolwarm', fmt='.2f')\n",
        "\n",
        "plt.title('Correlation Matrix')\n",
        "plt.show()\n"
      ],
      "metadata": {
        "colab": {
          "base_uri": "https://localhost:8080/",
          "height": 1000
        },
        "id": "Reil72jaroFg",
        "outputId": "f568c15f-e61c-4bd4-d719-2a28611fab36"
      },
      "execution_count": 10,
      "outputs": [
        {
          "output_type": "stream",
          "name": "stdout",
          "text": [
            "                yrs.since.phd  yrs.service    salary  rank_AssocProf  \\\n",
            "yrs.since.phd        1.000000     0.909649  0.419231       -0.233721   \n",
            "yrs.service          0.909649     1.000000  0.334745       -0.191074   \n",
            "salary               0.419231     0.334745  1.000000       -0.287378   \n",
            "rank_AssocProf      -0.233721    -0.191074 -0.287378        1.000000   \n",
            "rank_AsstProf       -0.602513    -0.528702 -0.490502       -0.197537   \n",
            "rank_Prof            0.662719     0.570572  0.615458       -0.624702   \n",
            "discipline_A         0.218087     0.164599 -0.156084       -0.043720   \n",
            "discipline_B        -0.218087    -0.164599  0.156084        0.043720   \n",
            "sex_Female          -0.148788    -0.153740 -0.138610        0.085450   \n",
            "sex_Male             0.148788     0.153740  0.138610       -0.085450   \n",
            "\n",
            "                rank_AsstProf  rank_Prof  discipline_A  discipline_B  \\\n",
            "yrs.since.phd       -0.602513   0.662719      0.218087     -0.218087   \n",
            "yrs.service         -0.528702   0.570572      0.164599     -0.164599   \n",
            "salary              -0.490502   0.615458     -0.156084      0.156084   \n",
            "rank_AssocProf      -0.197537  -0.624702     -0.043720      0.043720   \n",
            "rank_AsstProf        1.000000  -0.642075     -0.088399      0.088399   \n",
            "rank_Prof           -0.642075   1.000000      0.104606     -0.104606   \n",
            "discipline_A        -0.088399   0.104606      1.000000     -1.000000   \n",
            "discipline_B         0.088399  -0.104606     -1.000000      1.000000   \n",
            "sex_Female           0.099830  -0.146347      0.003724     -0.003724   \n",
            "sex_Male            -0.099830   0.146347     -0.003724      0.003724   \n",
            "\n",
            "                sex_Female  sex_Male  \n",
            "yrs.since.phd    -0.148788  0.148788  \n",
            "yrs.service      -0.153740  0.153740  \n",
            "salary           -0.138610  0.138610  \n",
            "rank_AssocProf    0.085450 -0.085450  \n",
            "rank_AsstProf     0.099830 -0.099830  \n",
            "rank_Prof        -0.146347  0.146347  \n",
            "discipline_A      0.003724 -0.003724  \n",
            "discipline_B     -0.003724  0.003724  \n",
            "sex_Female        1.000000 -1.000000  \n",
            "sex_Male         -1.000000  1.000000  \n"
          ]
        },
        {
          "output_type": "display_data",
          "data": {
            "text/plain": [
              "<Figure size 800x600 with 2 Axes>"
            ],
            "image/png": "[encoded data removed]"
          },
          "metadata": {}
        }
      ]
    },
    {
      "cell_type": "code",
      "source": [
        "# Additional Visualization\n",
        "sns.scatterplot(data=df, x='yrs.since.phd', y='salary')\n",
        "\n",
        "plt.title('Salary vs Years since PhD')\n",
        "plt.xlabel('Years since PhD')\n",
        "plt.ylabel('Salary')\n",
        "plt.show()"
      ],
      "metadata": {
        "colab": {
          "base_uri": "https://localhost:8080/",
          "height": 472
        },
        "id": "1hZ8-9tTuOd7",
        "outputId": "fc2743a3-f987-4891-f3d1-650a602457fc"
      },
      "execution_count": 11,
      "outputs": [
        {
          "output_type": "display_data",
          "data": {
            "text/plain": [
              "<Figure size 640x480 with 1 Axes>"
            ],
            "image/png": "[encoded data removed]"
          },
          "metadata": {}
        }
      ]
    },
    {
      "cell_type": "markdown",
      "source": [
        "You can notice a positive correlation between the salary earned and the years passed since when a person archieved there PhD. This means that your salary usually growth with more years since getting the PhD degree."
      ],
      "metadata": {
        "id": "tfWXArTbw4Vy"
      }
    },
    {
      "cell_type": "markdown",
      "source": [
        "###2. Multilinear Regression Model###"
      ],
      "metadata": {
        "id": "8fezUXJ30FYB"
      }
    },
    {
      "cell_type": "code",
      "source": [
        "# 1. Preprocessing\n",
        "from sklearn.preprocessing import StandardScaler\n",
        "columns_to_scale = ['yrs.since.phd', 'yrs.service','salary']\n",
        "scaler = StandardScaler()\n",
        "\n",
        "# Apply scaler only to numerical columns\n",
        "df[columns_to_scale] = scaler.fit_transform(df[columns_to_scale])\n",
        "\n",
        "print(\"\\nPartially Standardized Dataset:\")\n",
        "print(df)\n",
        "\n"
      ],
      "metadata": {
        "colab": {
          "base_uri": "https://localhost:8080/"
        },
        "id": "6Y1u4imj0MAy",
        "outputId": "b762f0eb-1439-4cdb-f5c2-54d29854ec68"
      },
      "execution_count": 12,
      "outputs": [
        {
          "output_type": "stream",
          "name": "stdout",
          "text": [
            "\n",
            "Partially Standardized Dataset:\n",
            "         rank discipline  yrs.since.phd  yrs.service   sex    salary\n",
            "0        Prof          B      -0.257550     0.029669  Male  0.860919\n",
            "1        Prof          B      -0.179854    -0.124300  Male  1.966672\n",
            "2    AsstProf          B      -1.422982    -1.125098  Male -1.122495\n",
            "3        Prof          B       1.762533     1.646343  Male  0.042760\n",
            "4        Prof          B       1.374055     1.800312  Male  0.918768\n",
            "..        ...        ...            ...          ...   ...       ...\n",
            "392      Prof          A       0.830187     0.953483  Male -0.350418\n",
            "393      Prof          A       0.674796     0.106654  Male  1.218396\n",
            "394      Prof          A       1.529446     0.568560  Male -0.395640\n",
            "395      Prof          A       0.208623    -0.201284  Male -0.607502\n",
            "396  AsstProf          A      -1.112200    -1.048113  Male -1.080017\n",
            "\n",
            "[397 rows x 6 columns]\n"
          ]
        }
      ]
    },
    {
      "cell_type": "code",
      "source": [
        "# 2. Model Creation\n",
        "from sklearn.model_selection import train_test_split\n",
        "from sklearn.linear_model import LinearRegression\n",
        "from sklearn.metrics import mean_squared_error, r2_score\n",
        "\n",
        "# Separate features and target variable\n",
        "X = df[['yrs.since.phd', 'yrs.service']]  # Features\n",
        "y = df['salary']  # Target\n",
        "\n",
        "scaler = StandardScaler()\n",
        "X_standardized = scaler.fit_transform(X)\n",
        "\n",
        "# Split into train and test sets\n",
        "X_train, X_test, y_train, y_test = train_test_split(X_standardized, y, test_size=0.2, random_state=42)\n",
        "\n",
        "# Initialize the model\n",
        "model = LinearRegression()\n",
        "\n",
        "# Fit the model on the training data\n",
        "model.fit(X_train, y_train)\n",
        "\n",
        "# Print model coefficients\n",
        "print(\"Model Coefficients:\", model.coef_)\n",
        "print(\"Intercept:\", model.intercept_)\n"
      ],
      "metadata": {
        "colab": {
          "base_uri": "https://localhost:8080/"
        },
        "id": "16uEHIrt2FKC",
        "outputId": "da9e9e8e-0d75-40e4-b498-f2aef9e92bdb"
      },
      "execution_count": 13,
      "outputs": [
        {
          "output_type": "stream",
          "name": "stdout",
          "text": [
            "Model Coefficients: [ 0.64375549 -0.18893713]\n",
            "Intercept: 0.009887542379578068\n"
          ]
        }
      ]
    },
    {
      "cell_type": "code",
      "source": [
        "# 3. Model Summary\n",
        "import statsmodels.api as sm\n",
        "\n",
        "# Train the model\n",
        "model = sm.OLS(y, X_standardized).fit()\n",
        "\n",
        "# Print the regression summary\n",
        "print(model.summary())"
      ],
      "metadata": {
        "colab": {
          "base_uri": "https://localhost:8080/"
        },
        "id": "EiLxRONX4Mdr",
        "outputId": "a5104664-3710-4a78-c4fc-12c8dbb9d67d"
      },
      "execution_count": 14,
      "outputs": [
        {
          "output_type": "stream",
          "name": "stdout",
          "text": [
            "                                 OLS Regression Results                                \n",
            "=======================================================================================\n",
            "Dep. Variable:                 salary   R-squared (uncentered):                   0.188\n",
            "Model:                            OLS   Adj. R-squared (uncentered):              0.184\n",
            "Method:                 Least Squares   F-statistic:                              45.83\n",
            "Date:                Mon, 25 Nov 2024   Prob (F-statistic):                    1.26e-18\n",
            "Time:                        13:27:13   Log-Likelihood:                         -521.90\n",
            "No. Observations:                 397   AIC:                                      1048.\n",
            "Df Residuals:                     395   BIC:                                      1056.\n",
            "Df Model:                           2                                                  \n",
            "Covariance Type:            nonrobust                                                  \n",
            "==============================================================================\n",
            "                 coef    std err          t      P>|t|      [0.025      0.975]\n",
            "------------------------------------------------------------------------------\n",
            "x1             0.6650      0.109      6.093      0.000       0.450       0.880\n",
            "x2            -0.2701      0.109     -2.475      0.014      -0.485      -0.056\n",
            "==============================================================================\n",
            "Omnibus:                       14.927   Durbin-Watson:                   1.867\n",
            "Prob(Omnibus):                  0.001   Jarque-Bera (JB):               15.947\n",
            "Skew:                           0.429   Prob(JB):                     0.000344\n",
            "Kurtosis:                       3.478   Cond. No.                         4.60\n",
            "==============================================================================\n",
            "\n",
            "Notes:\n",
            "[1] R² is computed without centering (uncentered) since the model does not contain a constant.\n",
            "[2] Standard Errors assume that the covariance matrix of the errors is correctly specified.\n"
          ]
        }
      ]
    },
    {
      "cell_type": "code",
      "source": [
        "# 4. Make Predictions\n",
        "y_pred = model.predict(X_test)\n",
        "print(\"Predictions on Test Data:\")\n",
        "print(y_pred)"
      ],
      "metadata": {
        "colab": {
          "base_uri": "https://localhost:8080/"
        },
        "id": "ScTXsZ9O5Jo5",
        "outputId": "944d3931-7b95-4ea3-9012-44a115b514fb"
      },
      "execution_count": 15,
      "outputs": [
        {
          "output_type": "stream",
          "name": "stdout",
          "text": [
            "Predictions on Test Data:\n",
            "[-0.16659381  0.07904681 -0.54969201 -0.48795576  0.31657201 -0.39404702\n",
            "  0.31461546 -0.73490075 -0.37455525  0.36888846 -0.23093879  0.42801597\n",
            "  0.18172316  0.05013524  0.27367535 -0.53962003  0.7185098  -0.43563931\n",
            "  0.78770929 -0.66309252 -0.22898224  0.18172316  0.35555556 -0.17927452\n",
            " -0.06456964 -0.29202286 -0.65236836 -0.62150024  0.67822188 -0.13703005\n",
            " -0.28260306 -0.06456964  0.54337304 -0.03500589  0.16157921  0.11868255\n",
            "  0.60250055 -0.16920254 -0.29267504  0.92125377  0.13201545  0.31657201\n",
            " -0.16724599 -0.1987663   0.53264887  0.0293391  -0.11753828  0.69771366\n",
            "  0.65416482 -0.06587401 -0.07594599 -0.50875191  0.56612574 -0.37390306\n",
            "  0.16353576 -0.68323648 -0.44701566 -0.18869432 -0.25173494 -0.60135628\n",
            "  0.34613576 -0.46650743  0.15020286 -0.60070409  1.00900363  0.07774245\n",
            " -0.34368712  0.2944715  -0.30209484 -0.22963442 -0.60135628  0.19309951\n",
            "  0.17165118  0.50047638 -0.2397064  -0.21956244 -0.34368712 -0.43629149\n",
            "  0.72727741  0.64670157]\n"
          ]
        }
      ]
    },
    {
      "cell_type": "code",
      "source": [
        "# 5. Evaluate Model Performance\n",
        "from sklearn.metrics import mean_absolute_error\n",
        "import numpy as np\n",
        "\n",
        "# Calculate MAE\n",
        "mae = mean_absolute_error(y_test, y_pred)\n",
        "\n",
        "# Calculate RMSE\n",
        "rmse = np.sqrt(mean_squared_error(y_test, y_pred))\n",
        "\n",
        "print(\"Mean Absolute Error (MAE):\", mae)\n",
        "print(\"Root Mean Squared Error (RMSE):\", rmse)\n"
      ],
      "metadata": {
        "colab": {
          "base_uri": "https://localhost:8080/"
        },
        "id": "gIchxWjIG-r-",
        "outputId": "d2d80d9c-fac1-4539-8992-11e4077f9668"
      },
      "execution_count": 16,
      "outputs": [
        {
          "output_type": "stream",
          "name": "stdout",
          "text": [
            "Mean Absolute Error (MAE): 0.6797888604466644\n",
            "Root Mean Squared Error (RMSE): 0.8957414914209967\n"
          ]
        }
      ]
    },
    {
      "cell_type": "code",
      "source": [
        "# 6. Fine-Tuning\n",
        "# Extract p-values\n",
        "p_values = model.pvalues\n",
        "\n",
        "# Identify significant features\n",
        "significant_features = p_values[p_values < 0.05]\n",
        "print(\"Significant Features (p-value < 0.05):\")\n",
        "print(significant_features)\n"
      ],
      "metadata": {
        "colab": {
          "base_uri": "https://localhost:8080/"
        },
        "id": "pxrimpguIZu5",
        "outputId": "a02597ce-ac63-40ec-94d4-2ca739ddd867"
      },
      "execution_count": 17,
      "outputs": [
        {
          "output_type": "stream",
          "name": "stdout",
          "text": [
            "Significant Features (p-value < 0.05):\n",
            "x1    2.629440e-09\n",
            "x2    1.372942e-02\n",
            "dtype: float64\n"
          ]
        }
      ]
    },
    {
      "cell_type": "markdown",
      "source": [
        "All variables used in my initial model were already statistically significant."
      ],
      "metadata": {
        "id": "XUMJF4V4Ir36"
      }
    },
    {
      "cell_type": "markdown",
      "source": [
        "### 3. Tree Regression Model###"
      ],
      "metadata": {
        "id": "ey1npLciJED1"
      }
    },
    {
      "cell_type": "code",
      "source": [
        "# 1. Model Creation\n",
        "from sklearn.tree import DecisionTreeRegressor\n",
        "from sklearn.ensemble import RandomForestRegressor\n",
        "tree_regressor = DecisionTreeRegressor()\n",
        "tree_regressor.fit(X_train, y_train)"
      ],
      "metadata": {
        "colab": {
          "base_uri": "https://localhost:8080/",
          "height": 80
        },
        "id": "X--3QgYkfj1J",
        "outputId": "fe81af6e-b4fb-44f8-9f66-dbce358ee7f4"
      },
      "execution_count": 18,
      "outputs": [
        {
          "output_type": "execute_result",
          "data": {
            "text/plain": [
              "DecisionTreeRegressor()"
            ],
            "text/html": [
              "<style>#sk-container-id-1 {\n",
              "  /* Definition of color scheme common for light and dark mode */\n",
              "  --sklearn-color-text: black;\n",
              "  --sklearn-color-line: gray;\n",
              "  /* Definition of color scheme for unfitted estimators */\n",
              "  --sklearn-color-unfitted-level-0: #fff5e6;\n",
              "  --sklearn-color-unfitted-level-1: #f6e4d2;\n",
              "  --sklearn-color-unfitted-level-2: #ffe0b3;\n",
              "  --sklearn-color-unfitted-level-3: chocolate;\n",
              "  /* Definition of color scheme for fitted estimators */\n",
              "  --sklearn-color-fitted-level-0: #f0f8ff;\n",
              "  --sklearn-color-fitted-level-1: #d4ebff;\n",
              "  --sklearn-color-fitted-level-2: #b3dbfd;\n",
              "  --sklearn-color-fitted-level-3: cornflowerblue;\n",
              "\n",
              "  /* Specific color for light theme */\n",
              "  --sklearn-color-text-on-default-background: var(--sg-text-color, var(--theme-code-foreground, var(--jp-content-font-color1, black)));\n",
              "  --sklearn-color-background: var(--sg-background-color, var(--theme-background, var(--jp-layout-color0, white)));\n",
              "  --sklearn-color-border-box: var(--sg-text-color, var(--theme-code-foreground, var(--jp-content-font-color1, black)));\n",
              "  --sklearn-color-icon: #696969;\n",
              "\n",
              "  @media (prefers-color-scheme: dark) {\n",
              "    /* Redefinition of color scheme for dark theme */\n",
              "    --sklearn-color-text-on-default-background: var(--sg-text-color, var(--theme-code-foreground, var(--jp-content-font-color1, white)));\n",
              "    --sklearn-color-background: var(--sg-background-color, var(--theme-background, var(--jp-layout-color0, #111)));\n",
              "    --sklearn-color-border-box: var(--sg-text-color, var(--theme-code-foreground, var(--jp-content-font-color1, white)));\n",
              "    --sklearn-color-icon: #878787;\n",
              "  }\n",
              "}\n",
              "\n",
              "#sk-container-id-1 {\n",
              "  color: var(--sklearn-color-text);\n",
              "}\n",
              "\n",
              "#sk-container-id-1 pre {\n",
              "  padding: 0;\n",
              "}\n",
              "\n",
              "#sk-container-id-1 input.sk-hidden--visually {\n",
              "  border: 0;\n",
              "  clip: rect(1px 1px 1px 1px);\n",
              "  clip: rect(1px, 1px, 1px, 1px);\n",
              "  height: 1px;\n",
              "  margin: -1px;\n",
              "  overflow: hidden;\n",
              "  padding: 0;\n",
              "  position: absolute;\n",
              "  width: 1px;\n",
              "}\n",
              "\n",
              "#sk-container-id-1 div.sk-dashed-wrapped {\n",
              "  border: 1px dashed var(--sklearn-color-line);\n",
              "  margin: 0 0.4em 0.5em 0.4em;\n",
              "  box-sizing: border-box;\n",
              "  padding-bottom: 0.4em;\n",
              "  background-color: var(--sklearn-color-background);\n",
              "}\n",
              "\n",
              "#sk-container-id-1 div.sk-container {\n",
              "  /* jupyter's `normalize.less` sets `[hidden] { display: none; }`\n",
              "     but bootstrap.min.css set `[hidden] { display: none !important; }`\n",
              "     so we also need the `!important` here to be able to override the\n",
              "     default hidden behavior on the sphinx rendered scikit-learn.org.\n",
              "     See: https://github.com/scikit-learn/scikit-learn/issues/21755 */\n",
              "  display: inline-block !important;\n",
              "  position: relative;\n",
              "}\n",
              "\n",
              "#sk-container-id-1 div.sk-text-repr-fallback {\n",
              "  display: none;\n",
              "}\n",
              "\n",
              "div.sk-parallel-item,\n",
              "div.sk-serial,\n",
              "div.sk-item {\n",
              "  /* draw centered vertical line to link estimators */\n",
              "  background-image: linear-gradient(var(--sklearn-color-text-on-default-background), var(--sklearn-color-text-on-default-background));\n",
              "  background-size: 2px 100%;\n",
              "  background-repeat: no-repeat;\n",
              "  background-position: center center;\n",
              "}\n",
              "\n",
              "/* Parallel-specific style estimator block */\n",
              "\n",
              "#sk-container-id-1 div.sk-parallel-item::after {\n",
              "  content: \"\";\n",
              "  width: 100%;\n",
              "  border-bottom: 2px solid var(--sklearn-color-text-on-default-background);\n",
              "  flex-grow: 1;\n",
              "}\n",
              "\n",
              "#sk-container-id-1 div.sk-parallel {\n",
              "  display: flex;\n",
              "  align-items: stretch;\n",
              "  justify-content: center;\n",
              "  background-color: var(--sklearn-color-background);\n",
              "  position: relative;\n",
              "}\n",
              "\n",
              "#sk-container-id-1 div.sk-parallel-item {\n",
              "  display: flex;\n",
              "  flex-direction: column;\n",
              "}\n",
              "\n",
              "#sk-container-id-1 div.sk-parallel-item:first-child::after {\n",
              "  align-self: flex-end;\n",
              "  width: 50%;\n",
              "}\n",
              "\n",
              "#sk-container-id-1 div.sk-parallel-item:last-child::after {\n",
              "  align-self: flex-start;\n",
              "  width: 50%;\n",
              "}\n",
              "\n",
              "#sk-container-id-1 div.sk-parallel-item:only-child::after {\n",
              "  width: 0;\n",
              "}\n",
              "\n",
              "/* Serial-specific style estimator block */\n",
              "\n",
              "#sk-container-id-1 div.sk-serial {\n",
              "  display: flex;\n",
              "  flex-direction: column;\n",
              "  align-items: center;\n",
              "  background-color: var(--sklearn-color-background);\n",
              "  padding-right: 1em;\n",
              "  padding-left: 1em;\n",
              "}\n",
              "\n",
              "\n",
              "/* Toggleable style: style used for estimator/Pipeline/ColumnTransformer box that is\n",
              "clickable and can be expanded/collapsed.\n",
              "- Pipeline and ColumnTransformer use this feature and define the default style\n",
              "- Estimators will overwrite some part of the style using the `sk-estimator` class\n",
              "*/\n",
              "\n",
              "/* Pipeline and ColumnTransformer style (default) */\n",
              "\n",
              "#sk-container-id-1 div.sk-toggleable {\n",
              "  /* Default theme specific background. It is overwritten whether we have a\n",
              "  specific estimator or a Pipeline/ColumnTransformer */\n",
              "  background-color: var(--sklearn-color-background);\n",
              "}\n",
              "\n",
              "/* Toggleable label */\n",
              "#sk-container-id-1 label.sk-toggleable__label {\n",
              "  cursor: pointer;\n",
              "  display: block;\n",
              "  width: 100%;\n",
              "  margin-bottom: 0;\n",
              "  padding: 0.5em;\n",
              "  box-sizing: border-box;\n",
              "  text-align: center;\n",
              "}\n",
              "\n",
              "#sk-container-id-1 label.sk-toggleable__label-arrow:before {\n",
              "  /* Arrow on the left of the label */\n",
              "  content: \"▸\";\n",
              "  float: left;\n",
              "  margin-right: 0.25em;\n",
              "  color: var(--sklearn-color-icon);\n",
              "}\n",
              "\n",
              "#sk-container-id-1 label.sk-toggleable__label-arrow:hover:before {\n",
              "  color: var(--sklearn-color-text);\n",
              "}\n",
              "\n",
              "/* Toggleable content - dropdown */\n",
              "\n",
              "#sk-container-id-1 div.sk-toggleable__content {\n",
              "  max-height: 0;\n",
              "  max-width: 0;\n",
              "  overflow: hidden;\n",
              "  text-align: left;\n",
              "  /* unfitted */\n",
              "  background-color: var(--sklearn-color-unfitted-level-0);\n",
              "}\n",
              "\n",
              "#sk-container-id-1 div.sk-toggleable__content.fitted {\n",
              "  /* fitted */\n",
              "  background-color: var(--sklearn-color-fitted-level-0);\n",
              "}\n",
              "\n",
              "#sk-container-id-1 div.sk-toggleable__content pre {\n",
              "  margin: 0.2em;\n",
              "  border-radius: 0.25em;\n",
              "  color: var(--sklearn-color-text);\n",
              "  /* unfitted */\n",
              "  background-color: var(--sklearn-color-unfitted-level-0);\n",
              "}\n",
              "\n",
              "#sk-container-id-1 div.sk-toggleable__content.fitted pre {\n",
              "  /* unfitted */\n",
              "  background-color: var(--sklearn-color-fitted-level-0);\n",
              "}\n",
              "\n",
              "#sk-container-id-1 input.sk-toggleable__control:checked~div.sk-toggleable__content {\n",
              "  /* Expand drop-down */\n",
              "  max-height: 200px;\n",
              "  max-width: 100%;\n",
              "  overflow: auto;\n",
              "}\n",
              "\n",
              "#sk-container-id-1 input.sk-toggleable__control:checked~label.sk-toggleable__label-arrow:before {\n",
              "  content: \"▾\";\n",
              "}\n",
              "\n",
              "/* Pipeline/ColumnTransformer-specific style */\n",
              "\n",
              "#sk-container-id-1 div.sk-label input.sk-toggleable__control:checked~label.sk-toggleable__label {\n",
              "  color: var(--sklearn-color-text);\n",
              "  background-color: var(--sklearn-color-unfitted-level-2);\n",
              "}\n",
              "\n",
              "#sk-container-id-1 div.sk-label.fitted input.sk-toggleable__control:checked~label.sk-toggleable__label {\n",
              "  background-color: var(--sklearn-color-fitted-level-2);\n",
              "}\n",
              "\n",
              "/* Estimator-specific style */\n",
              "\n",
              "/* Colorize estimator box */\n",
              "#sk-container-id-1 div.sk-estimator input.sk-toggleable__control:checked~label.sk-toggleable__label {\n",
              "  /* unfitted */\n",
              "  background-color: var(--sklearn-color-unfitted-level-2);\n",
              "}\n",
              "\n",
              "#sk-container-id-1 div.sk-estimator.fitted input.sk-toggleable__control:checked~label.sk-toggleable__label {\n",
              "  /* fitted */\n",
              "  background-color: var(--sklearn-color-fitted-level-2);\n",
              "}\n",
              "\n",
              "#sk-container-id-1 div.sk-label label.sk-toggleable__label,\n",
              "#sk-container-id-1 div.sk-label label {\n",
              "  /* The background is the default theme color */\n",
              "  color: var(--sklearn-color-text-on-default-background);\n",
              "}\n",
              "\n",
              "/* On hover, darken the color of the background */\n",
              "#sk-container-id-1 div.sk-label:hover label.sk-toggleable__label {\n",
              "  color: var(--sklearn-color-text);\n",
              "  background-color: var(--sklearn-color-unfitted-level-2);\n",
              "}\n",
              "\n",
              "/* Label box, darken color on hover, fitted */\n",
              "#sk-container-id-1 div.sk-label.fitted:hover label.sk-toggleable__label.fitted {\n",
              "  color: var(--sklearn-color-text);\n",
              "  background-color: var(--sklearn-color-fitted-level-2);\n",
              "}\n",
              "\n",
              "/* Estimator label */\n",
              "\n",
              "#sk-container-id-1 div.sk-label label {\n",
              "  font-family: monospace;\n",
              "  font-weight: bold;\n",
              "  display: inline-block;\n",
              "  line-height: 1.2em;\n",
              "}\n",
              "\n",
              "#sk-container-id-1 div.sk-label-container {\n",
              "  text-align: center;\n",
              "}\n",
              "\n",
              "/* Estimator-specific */\n",
              "#sk-container-id-1 div.sk-estimator {\n",
              "  font-family: monospace;\n",
              "  border: 1px dotted var(--sklearn-color-border-box);\n",
              "  border-radius: 0.25em;\n",
              "  box-sizing: border-box;\n",
              "  margin-bottom: 0.5em;\n",
              "  /* unfitted */\n",
              "  background-color: var(--sklearn-color-unfitted-level-0);\n",
              "}\n",
              "\n",
              "#sk-container-id-1 div.sk-estimator.fitted {\n",
              "  /* fitted */\n",
              "  background-color: var(--sklearn-color-fitted-level-0);\n",
              "}\n",
              "\n",
              "/* on hover */\n",
              "#sk-container-id-1 div.sk-estimator:hover {\n",
              "  /* unfitted */\n",
              "  background-color: var(--sklearn-color-unfitted-level-2);\n",
              "}\n",
              "\n",
              "#sk-container-id-1 div.sk-estimator.fitted:hover {\n",
              "  /* fitted */\n",
              "  background-color: var(--sklearn-color-fitted-level-2);\n",
              "}\n",
              "\n",
              "/* Specification for estimator info (e.g. \"i\" and \"?\") */\n",
              "\n",
              "/* Common style for \"i\" and \"?\" */\n",
              "\n",
              ".sk-estimator-doc-link,\n",
              "a:link.sk-estimator-doc-link,\n",
              "a:visited.sk-estimator-doc-link {\n",
              "  float: right;\n",
              "  font-size: smaller;\n",
              "  line-height: 1em;\n",
              "  font-family: monospace;\n",
              "  background-color: var(--sklearn-color-background);\n",
              "  border-radius: 1em;\n",
              "  height: 1em;\n",
              "  width: 1em;\n",
              "  text-decoration: none !important;\n",
              "  margin-left: 1ex;\n",
              "  /* unfitted */\n",
              "  border: var(--sklearn-color-unfitted-level-1) 1pt solid;\n",
              "  color: var(--sklearn-color-unfitted-level-1);\n",
              "}\n",
              "\n",
              ".sk-estimator-doc-link.fitted,\n",
              "a:link.sk-estimator-doc-link.fitted,\n",
              "a:visited.sk-estimator-doc-link.fitted {\n",
              "  /* fitted */\n",
              "  border: var(--sklearn-color-fitted-level-1) 1pt solid;\n",
              "  color: var(--sklearn-color-fitted-level-1);\n",
              "}\n",
              "\n",
              "/* On hover */\n",
              "div.sk-estimator:hover .sk-estimator-doc-link:hover,\n",
              ".sk-estimator-doc-link:hover,\n",
              "div.sk-label-container:hover .sk-estimator-doc-link:hover,\n",
              ".sk-estimator-doc-link:hover {\n",
              "  /* unfitted */\n",
              "  background-color: var(--sklearn-color-unfitted-level-3);\n",
              "  color: var(--sklearn-color-background);\n",
              "  text-decoration: none;\n",
              "}\n",
              "\n",
              "div.sk-estimator.fitted:hover .sk-estimator-doc-link.fitted:hover,\n",
              ".sk-estimator-doc-link.fitted:hover,\n",
              "div.sk-label-container:hover .sk-estimator-doc-link.fitted:hover,\n",
              ".sk-estimator-doc-link.fitted:hover {\n",
              "  /* fitted */\n",
              "  background-color: var(--sklearn-color-fitted-level-3);\n",
              "  color: var(--sklearn-color-background);\n",
              "  text-decoration: none;\n",
              "}\n",
              "\n",
              "/* Span, style for the box shown on hovering the info icon */\n",
              ".sk-estimator-doc-link span {\n",
              "  display: none;\n",
              "  z-index: 9999;\n",
              "  position: relative;\n",
              "  font-weight: normal;\n",
              "  right: .2ex;\n",
              "  padding: .5ex;\n",
              "  margin: .5ex;\n",
              "  width: min-content;\n",
              "  min-width: 20ex;\n",
              "  max-width: 50ex;\n",
              "  color: var(--sklearn-color-text);\n",
              "  box-shadow: 2pt 2pt 4pt #999;\n",
              "  /* unfitted */\n",
              "  background: var(--sklearn-color-unfitted-level-0);\n",
              "  border: .5pt solid var(--sklearn-color-unfitted-level-3);\n",
              "}\n",
              "\n",
              ".sk-estimator-doc-link.fitted span {\n",
              "  /* fitted */\n",
              "  background: var(--sklearn-color-fitted-level-0);\n",
              "  border: var(--sklearn-color-fitted-level-3);\n",
              "}\n",
              "\n",
              ".sk-estimator-doc-link:hover span {\n",
              "  display: block;\n",
              "}\n",
              "\n",
              "/* \"?\"-specific style due to the `<a>` HTML tag */\n",
              "\n",
              "#sk-container-id-1 a.estimator_doc_link {\n",
              "  float: right;\n",
              "  font-size: 1rem;\n",
              "  line-height: 1em;\n",
              "  font-family: monospace;\n",
              "  background-color: var(--sklearn-color-background);\n",
              "  border-radius: 1rem;\n",
              "  height: 1rem;\n",
              "  width: 1rem;\n",
              "  text-decoration: none;\n",
              "  /* unfitted */\n",
              "  color: var(--sklearn-color-unfitted-level-1);\n",
              "  border: var(--sklearn-color-unfitted-level-1) 1pt solid;\n",
              "}\n",
              "\n",
              "#sk-container-id-1 a.estimator_doc_link.fitted {\n",
              "  /* fitted */\n",
              "  border: var(--sklearn-color-fitted-level-1) 1pt solid;\n",
              "  color: var(--sklearn-color-fitted-level-1);\n",
              "}\n",
              "\n",
              "/* On hover */\n",
              "#sk-container-id-1 a.estimator_doc_link:hover {\n",
              "  /* unfitted */\n",
              "  background-color: var(--sklearn-color-unfitted-level-3);\n",
              "  color: var(--sklearn-color-background);\n",
              "  text-decoration: none;\n",
              "}\n",
              "\n",
              "#sk-container-id-1 a.estimator_doc_link.fitted:hover {\n",
              "  /* fitted */\n",
              "  background-color: var(--sklearn-color-fitted-level-3);\n",
              "}\n",
              "</style><div id=\"sk-container-id-1\" class=\"sk-top-container\"><div class=\"sk-text-repr-fallback\"><pre>DecisionTreeRegressor()</pre><b>In a Jupyter environment, please rerun this cell to show the HTML representation or trust the notebook. <br />On GitHub, the HTML representation is unable to render, please try loading this page with nbviewer.org.</b></div><div class=\"sk-container\" hidden><div class=\"sk-item\"><div class=\"sk-estimator fitted sk-toggleable\"><input class=\"sk-toggleable__control sk-hidden--visually\" id=\"sk-estimator-id-1\" type=\"checkbox\" checked><label for=\"sk-estimator-id-1\" class=\"sk-toggleable__label fitted sk-toggleable__label-arrow fitted\">&nbsp;&nbsp;DecisionTreeRegressor<a class=\"sk-estimator-doc-link fitted\" rel=\"noreferrer\" target=\"_blank\" href=\"https://scikit-learn.org/1.5/modules/generated/sklearn.tree.DecisionTreeRegressor.html\">?<span>Documentation for DecisionTreeRegressor</span></a><span class=\"sk-estimator-doc-link fitted\">i<span>Fitted</span></span></label><div class=\"sk-toggleable__content fitted\"><pre>DecisionTreeRegressor()</pre></div> </div></div></div></div>"
            ]
          },
          "metadata": {},
          "execution_count": 18
        }
      ]
    },
    {
      "cell_type": "code",
      "source": [
        "# 2. Feature Importance\n",
        "importances = tree_regressor.feature_importances_\n",
        "\n",
        "feature_importances = pd.DataFrame({\n",
        "    'Feature': X.columns,\n",
        "    'Importance': importances\n",
        "})\n",
        "\n",
        "feature_importances = feature_importances.sort_values(by='Importance', ascending=False)\n",
        "\n",
        "print(feature_importances)"
      ],
      "metadata": {
        "colab": {
          "base_uri": "https://localhost:8080/"
        },
        "id": "rBPraBzffnyz",
        "outputId": "dd446f9f-6d65-4135-df64-b5ae3e2312ef"
      },
      "execution_count": 19,
      "outputs": [
        {
          "output_type": "stream",
          "name": "stdout",
          "text": [
            "         Feature  Importance\n",
            "0  yrs.since.phd    0.687432\n",
            "1    yrs.service    0.312568\n"
          ]
        }
      ]
    },
    {
      "cell_type": "code",
      "source": [
        "# 3. Make Predictions\n",
        "y_pred_tree = tree_regressor.predict(X_test)\n"
      ],
      "metadata": {
        "id": "PIKbJvH4g2wD"
      },
      "execution_count": 20,
      "outputs": []
    },
    {
      "cell_type": "code",
      "source": [
        "# 4. Evaluate Model Performance\n",
        "mae_tree = mean_absolute_error(y_test, y_pred_tree)\n",
        "print(f\"Mean Absolute Error (MAE) of regression model by tree: {mae_tree}\")\n",
        "rmse_tree = np.sqrt(mean_squared_error(y_test, y_pred_tree))\n",
        "print(f\"Root Mean Squared Error (RMSE) of regression model by tree: {rmse_tree}\")"
      ],
      "metadata": {
        "colab": {
          "base_uri": "https://localhost:8080/"
        },
        "id": "Yeox3QmLhGn9",
        "outputId": "bf07b980-b67c-406d-c7b7-8e03c1eac853"
      },
      "execution_count": 22,
      "outputs": [
        {
          "output_type": "stream",
          "name": "stdout",
          "text": [
            "Mean Absolute Error (MAE) of regression model by tree: 0.7779201908932014\n",
            "Root Mean Squared Error (RMSE) of regression model by tree: 1.0568979330034054\n"
          ]
        }
      ]
    },
    {
      "cell_type": "code",
      "source": [
        "import pandas as pd\n",
        "import seaborn as sns\n",
        "import matplotlib.pyplot as plt\n",
        "from sklearn.preprocessing import StandardScaler\n",
        "from sklearn.model_selection import train_test_split\n",
        "from sklearn.linear_model import LinearRegression\n",
        "import statsmodels.api as sm\n",
        "from sklearn.metrics import mean_absolute_error, mean_squared_error\n",
        "import numpy as np\n",
        "from sklearn.tree import DecisionTreeRegressor\n",
        "from sklearn.ensemble import RandomForestRegressor"
      ],
      "metadata": {
        "id": "aGKk1liQiIHL"
      },
      "execution_count": 25,
      "outputs": []
    },
    {
      "cell_type": "code",
      "source": [
        "# 5. Fine Tuning\n",
        "top_features = ['rank_Prof', 'yrs.since.phd', 'discipline_B']\n",
        "X_train_top = X_train[top_features]\n",
        "X_test_top = X_test[top_features]"
      ],
      "metadata": {
        "colab": {
          "base_uri": "https://localhost:8080/",
          "height": 207
        },
        "id": "9Rr9zHBfhOiD",
        "outputId": "b182ecc4-ada6-4eb2-d3c2-5a7c7b2093a9"
      },
      "execution_count": 30,
      "outputs": [
        {
          "output_type": "error",
          "ename": "IndexError",
          "evalue": "only integers, slices (`:`), ellipsis (`...`), numpy.newaxis (`None`) and integer or boolean arrays are valid indices",
          "traceback": [
            "\u001b[0;31m---------------------------------------------------------------------------\u001b[0m",
            "\u001b[0;31mIndexError\u001b[0m                                Traceback (most recent call last)",
            "\u001b[0;32m<ipython-input-30-7ae9a26ee7a0>\u001b[0m in \u001b[0;36m<cell line: 3>\u001b[0;34m()\u001b[0m\n\u001b[1;32m      1\u001b[0m \u001b[0;31m# 5. Fine Tuning\u001b[0m\u001b[0;34m\u001b[0m\u001b[0;34m\u001b[0m\u001b[0m\n\u001b[1;32m      2\u001b[0m \u001b[0mtop_features\u001b[0m \u001b[0;34m=\u001b[0m \u001b[0;34m[\u001b[0m\u001b[0;34m'rank_Prof'\u001b[0m\u001b[0;34m,\u001b[0m \u001b[0;34m'yrs.since.phd'\u001b[0m\u001b[0;34m,\u001b[0m \u001b[0;34m'discipline_B'\u001b[0m\u001b[0;34m]\u001b[0m\u001b[0;34m\u001b[0m\u001b[0;34m\u001b[0m\u001b[0m\n\u001b[0;32m----> 3\u001b[0;31m \u001b[0mX_train_top\u001b[0m \u001b[0;34m=\u001b[0m \u001b[0mX_train\u001b[0m\u001b[0;34m[\u001b[0m\u001b[0mtop_features\u001b[0m\u001b[0;34m]\u001b[0m\u001b[0;34m\u001b[0m\u001b[0;34m\u001b[0m\u001b[0m\n\u001b[0m\u001b[1;32m      4\u001b[0m \u001b[0mX_test_top\u001b[0m \u001b[0;34m=\u001b[0m \u001b[0mX_test\u001b[0m\u001b[0;34m[\u001b[0m\u001b[0mtop_features\u001b[0m\u001b[0;34m]\u001b[0m\u001b[0;34m\u001b[0m\u001b[0;34m\u001b[0m\u001b[0m\n",
            "\u001b[0;31mIndexError\u001b[0m: only integers, slices (`:`), ellipsis (`...`), numpy.newaxis (`None`) and integer or boolean arrays are valid indices"
          ]
        }
      ]
    },
    {
      "cell_type": "markdown",
      "source": [
        "### 4. Extra Mile ###"
      ],
      "metadata": {
        "id": "wJiTpaGiir7Q"
      }
    },
    {
      "cell_type": "code",
      "source": [
        "# 1. Random Forest Regression Model\n",
        "rf_regressor = RandomForestRegressor()\n",
        "rf_regressor.fit(X_train, y_train)\n",
        "\n",
        "y_pred_rf = rf_regressor.predict(X_test)\n",
        "\n",
        "mae_rf = mean_absolute_error(y_test, y_pred_rf)\n",
        "print(f\"Mean Absolute Error (MAE) of random forest regression model: {mae_rf}\")\n",
        "rmse_rf = np.sqrt(mean_squared_error(y_test, y_pred_rf))\n",
        "print(f\"Root Mean Squared Error (RMSE) of random forest regression model: {rmse_rf}\")"
      ],
      "metadata": {
        "colab": {
          "base_uri": "https://localhost:8080/"
        },
        "id": "8E8wZ6AgivPp",
        "outputId": "68d77b99-a4ac-4208-d719-fc24e9aa1569"
      },
      "execution_count": 32,
      "outputs": [
        {
          "output_type": "stream",
          "name": "stdout",
          "text": [
            "Mean Absolute Error (MAE) of random forest regression model: 0.648553643340246\n",
            "Root Mean Squared Error (RMSE) of random forest regression model: 0.8916498097909605\n"
          ]
        }
      ]
    },
    {
      "cell_type": "code",
      "source": [
        "#2. Comparison\n",
        "print(\"Model comparison :\")\n",
        "print(\"--------------------------------------------------\")\n",
        "print(f\"Linear regression model - MAE : {mae:.2f}, RMSE : {rmse:.2f}\")\n",
        "print(f\"Tree regression model- MAE : {mae_tree:.2f}, RMSE : {rmse_tree:.2f}\")\n",
        "print(f\"Random forest regression model- MAE : {mae_rf:.2f}, RMSE : {rmse_rf:.2f}\")"
      ],
      "metadata": {
        "colab": {
          "base_uri": "https://localhost:8080/"
        },
        "id": "IUgWZc9Fi3_-",
        "outputId": "26b65d2a-b90b-45ae-f2f8-0fe6d005b13c"
      },
      "execution_count": 33,
      "outputs": [
        {
          "output_type": "stream",
          "name": "stdout",
          "text": [
            "Model comparison :\n",
            "--------------------------------------------------\n",
            "Linear regression model - MAE : 0.68, RMSE : 0.90\n",
            "Tree regression model- MAE : 0.78, RMSE : 1.06\n",
            "Random forest regression model- MAE : 0.65, RMSE : 0.89\n"
          ]
        }
      ]
    },
    {
      "cell_type": "code",
      "source": [],
      "metadata": {
        "id": "KxPekJYNjC-6"
      },
      "execution_count": null,
      "outputs": []
    }
  ]
}